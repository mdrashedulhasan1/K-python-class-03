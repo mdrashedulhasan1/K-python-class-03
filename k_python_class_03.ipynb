{
  "nbformat": 4,
  "nbformat_minor": 0,
  "metadata": {
    "colab": {
      "name": "k-python-class-03.ipynb",
      "provenance": [],
      "collapsed_sections": [],
      "authorship_tag": "ABX9TyNLWfVqAOl/qy9qFfHD/icn",
      "include_colab_link": true
    },
    "kernelspec": {
      "name": "python3",
      "display_name": "Python 3"
    },
    "language_info": {
      "name": "python"
    }
  },
  "cells": [
    {
      "cell_type": "markdown",
      "metadata": {
        "id": "view-in-github",
        "colab_type": "text"
      },
      "source": [
        "<a href=\"https://colab.research.google.com/github/mdrashedulhasan1/K-python-class-03/blob/main/k_python_class_03.ipynb\" target=\"_parent\"><img src=\"https://colab.research.google.com/assets/colab-badge.svg\" alt=\"Open In Colab\"/></a>"
      ]
    },
    {
      "cell_type": "code",
      "metadata": {
        "colab": {
          "base_uri": "https://localhost:8080/"
        },
        "id": "DzEX2XMQxXkO",
        "outputId": "4cb649f4-6c17-491d-ce95-50ef2995381f"
      },
      "source": [
        "# x = True\n",
        "# print(type (x))\n",
        "\n",
        "# y = False\n",
        "# print(type (y))\n",
        "\n",
        "# x = 5\n",
        "# y = 5\n",
        "# print(x == y) True\n",
        "\n",
        "# x = 5\n",
        "# y = 5\n",
        "# print(x != y) False\n",
        "\n",
        "\n",
        "# x = 5\n",
        "# y = 2\n",
        "# print(x>y) True\n",
        "\n",
        "# x = 5\n",
        "# y = 20\n",
        "# print(x>y) False\n",
        "\n",
        "# x = 5\n",
        "# y = 20\n",
        "# print(x<y) True\n",
        "\n",
        "# x = 20\n",
        "# y = 20\n",
        "# print(x<=y) True\n",
        "\n",
        "# x = 19\n",
        "# y = 20\n",
        "# print(x<=y) True\n",
        "\n",
        "# x = 21\n",
        "# y = 20\n",
        "# print(x>=y)  True\n",
        "\n",
        "# x = 20\n",
        "# y = 20\n",
        "# print(x>=y) True\n",
        "\n",
        "\n",
        "\n",
        "\n"
      ],
      "execution_count": 16,
      "outputs": [
        {
          "output_type": "stream",
          "name": "stdout",
          "text": [
            "True\n"
          ]
        }
      ]
    },
    {
      "cell_type": "code",
      "metadata": {
        "colab": {
          "base_uri": "https://localhost:8080/"
        },
        "id": "o6xwXEMq1JAN",
        "outputId": "504b64a5-9370-4bce-dc1c-65208c7441ee"
      },
      "source": [
        "# x = 20\n",
        "# y = 30\n",
        "# if x>y:\n",
        "#   print(x,\"is greater then\",y)\n",
        "# else:\n",
        "#   print(y,\"is greater then\",x)\n",
        "\n",
        "# x = 2\n",
        "# if x==2:\n",
        "#   print(2,\"Found\")\n"
      ],
      "execution_count": 22,
      "outputs": [
        {
          "output_type": "stream",
          "name": "stdout",
          "text": [
            "2 Found\n"
          ]
        }
      ]
    },
    {
      "cell_type": "code",
      "metadata": {
        "colab": {
          "base_uri": "https://localhost:8080/"
        },
        "id": "FSBS2lC02pMm",
        "outputId": "9584e4c8-9fcd-481a-b86f-2729dbe8095d"
      },
      "source": [
        "# x = int(input(\"Enter user number: \"))\n",
        "# if x==0:\n",
        "#   print(\"Zero\")\n",
        "# elif x%2==0:\n",
        "#   print(\"Even Number\")\n",
        "# else:\n",
        "#   print(\"Odd Number\")\n",
        "\n",
        "# marks = int(input(\"Enter your marks: \"))\n",
        "# if marks>=80:\n",
        "#   print(\"A+\")\n",
        "# elif marks>=70:\n",
        "#   print(\"A\")\n",
        "# elif marks>=60:\n",
        "#   print(\"A-\")\n",
        "# elif marks>=50:\n",
        "#   print(\"B\")\n",
        "# elif marks>=40:\n",
        "#   print(\"C\")\n",
        "# elif marks>=33:\n",
        "#   print(\"D\")\n",
        "# else:\n",
        "#   print(\"Fail\")\n",
        "\n"
      ],
      "execution_count": 29,
      "outputs": [
        {
          "output_type": "stream",
          "name": "stdout",
          "text": [
            "Enter your marks: 20\n",
            "Fail\n"
          ]
        }
      ]
    },
    {
      "cell_type": "code",
      "metadata": {
        "colab": {
          "base_uri": "https://localhost:8080/"
        },
        "id": "ZwLp5yMg5Xj9",
        "outputId": "e069bcf4-e0da-4c83-b6e4-4683c3c3b076"
      },
      "source": [
        "# x = int(input(\"First number: \"))\n",
        "# y = int(input(\"Second number: \"))\n",
        "# z = int(input(\"Third number: \"))\n",
        "# if x>y:\n",
        "#   if x>z:\n",
        "#     print(x,\"is the biggest number\")\n",
        "#   else:\n",
        "#     print(z,\"is the biggest number\")\n",
        "# else:\n",
        "#   if y>z:\n",
        "#     print(y,\"is the biggest number\")\n",
        "#   else:\n",
        "#     print(z,\"is the biggest number\")"
      ],
      "execution_count": 31,
      "outputs": [
        {
          "output_type": "stream",
          "name": "stdout",
          "text": [
            "First number: 5\n",
            "Second number: 10\n",
            "Third number: 15\n",
            "15 is the biggest number\n"
          ]
        }
      ]
    }
  ]
}